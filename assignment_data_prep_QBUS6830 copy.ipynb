{
 "cells": [
  {
   "cell_type": "code",
   "execution_count": 1,
   "metadata": {},
   "outputs": [],
   "source": [
    "import yfinance as yf\n",
    "import random\n",
    "import pandas as pd"
   ]
  },
  {
   "cell_type": "code",
   "execution_count": 2,
   "metadata": {},
   "outputs": [],
   "source": [
    "tickers =['CBA.AX', 'WES.AX', 'BHP.AX', 'RIO.AX', 'TLS.AX', 'WBC.AX', 'CPU.AX', 'SEK.AX', 'ANZ.AX', 'WOW.AX', 'COH.AX', 'REA.AX']\n",
    "tickers_str = \" \".join(tickers)"
   ]
  },
  {
   "cell_type": "code",
   "execution_count": 3,
   "metadata": {},
   "outputs": [
    {
     "name": "stdout",
     "output_type": "stream",
     "text": [
      "[*********************100%***********************]  12 of 12 completed\n"
     ]
    }
   ],
   "source": [
    "data = yf.download(tickers_str, start='2010-01-01', end='2022-03-09')['Adj Close']"
   ]
  },
  {
   "cell_type": "code",
   "execution_count": 4,
   "metadata": {},
   "outputs": [],
   "source": [
    "data.to_csv(\"saved_data.csv\")\n",
    "#you can save the full dataset"
   ]
  },
  {
   "cell_type": "code",
   "execution_count": 5,
   "metadata": {},
   "outputs": [],
   "source": [
    "data = pd.read_csv(\"saved_data.csv\", index_col = 0)\n",
    "#if you have previously downloaded and saved the dataset, this cell will load the data"
   ]
  },
  {
   "cell_type": "code",
   "execution_count": 6,
   "metadata": {},
   "outputs": [],
   "source": [
    "group_num = 1  ### this is your group number \n",
    "#e.g. if your group number is 28, change the above code to: group_num = 28"
   ]
  },
  {
   "cell_type": "code",
   "execution_count": 7,
   "metadata": {},
   "outputs": [
    {
     "name": "stdout",
     "output_type": "stream",
     "text": [
      "the 8 companies your group will work on are: \n",
      "['BHP.AX', 'WOW.AX', 'WES.AX', 'TLS.AX', 'COH.AX', 'RIO.AX', 'CPU.AX', 'WBC.AX']\n"
     ]
    }
   ],
   "source": [
    "random.seed(group_num)\n",
    "companies = random.sample(tickers,  k = 8)\n",
    "print(\"the 8 companies your group will work on are: \")\n",
    "print(companies)"
   ]
  },
  {
   "cell_type": "code",
   "execution_count": 8,
   "metadata": {},
   "outputs": [],
   "source": [
    "data_mygrp = data.loc[:,companies]"
   ]
  },
  {
   "cell_type": "code",
   "execution_count": 9,
   "metadata": {
    "scrolled": true
   },
   "outputs": [
    {
     "data": {
      "text/plain": [
       "(3080, 8)"
      ]
     },
     "execution_count": 9,
     "metadata": {},
     "output_type": "execute_result"
    }
   ],
   "source": [
    "data_mygrp.shape"
   ]
  },
  {
   "cell_type": "code",
   "execution_count": 10,
   "metadata": {},
   "outputs": [
    {
     "data": {
      "text/html": [
       "<div>\n",
       "<style scoped>\n",
       "    .dataframe tbody tr th:only-of-type {\n",
       "        vertical-align: middle;\n",
       "    }\n",
       "\n",
       "    .dataframe tbody tr th {\n",
       "        vertical-align: top;\n",
       "    }\n",
       "\n",
       "    .dataframe thead th {\n",
       "        text-align: right;\n",
       "    }\n",
       "</style>\n",
       "<table border=\"1\" class=\"dataframe\">\n",
       "  <thead>\n",
       "    <tr style=\"text-align: right;\">\n",
       "      <th></th>\n",
       "      <th>BHP.AX</th>\n",
       "      <th>WOW.AX</th>\n",
       "      <th>WES.AX</th>\n",
       "      <th>TLS.AX</th>\n",
       "      <th>COH.AX</th>\n",
       "      <th>RIO.AX</th>\n",
       "      <th>CPU.AX</th>\n",
       "      <th>WBC.AX</th>\n",
       "    </tr>\n",
       "    <tr>\n",
       "      <th>Date</th>\n",
       "      <th></th>\n",
       "      <th></th>\n",
       "      <th></th>\n",
       "      <th></th>\n",
       "      <th></th>\n",
       "      <th></th>\n",
       "      <th></th>\n",
       "      <th></th>\n",
       "    </tr>\n",
       "  </thead>\n",
       "  <tbody>\n",
       "    <tr>\n",
       "      <th>2010-01-04</th>\n",
       "      <td>21.839273</td>\n",
       "      <td>17.903509</td>\n",
       "      <td>11.145973</td>\n",
       "      <td>1.816208</td>\n",
       "      <td>51.211060</td>\n",
       "      <td>47.695763</td>\n",
       "      <td>8.072418</td>\n",
       "      <td>13.378514</td>\n",
       "    </tr>\n",
       "    <tr>\n",
       "      <th>2010-01-05</th>\n",
       "      <td>21.940670</td>\n",
       "      <td>17.795315</td>\n",
       "      <td>11.292165</td>\n",
       "      <td>1.810944</td>\n",
       "      <td>49.800896</td>\n",
       "      <td>48.606136</td>\n",
       "      <td>7.988406</td>\n",
       "      <td>13.489560</td>\n",
       "    </tr>\n",
       "    <tr>\n",
       "      <th>2010-01-06</th>\n",
       "      <td>22.214417</td>\n",
       "      <td>17.763494</td>\n",
       "      <td>11.124583</td>\n",
       "      <td>1.779358</td>\n",
       "      <td>49.934498</td>\n",
       "      <td>50.025799</td>\n",
       "      <td>7.946398</td>\n",
       "      <td>13.426105</td>\n",
       "    </tr>\n",
       "    <tr>\n",
       "      <th>2010-01-07</th>\n",
       "      <td>22.189066</td>\n",
       "      <td>17.725306</td>\n",
       "      <td>10.946303</td>\n",
       "      <td>1.747771</td>\n",
       "      <td>49.355579</td>\n",
       "      <td>50.293179</td>\n",
       "      <td>7.911393</td>\n",
       "      <td>13.246317</td>\n",
       "    </tr>\n",
       "    <tr>\n",
       "      <th>2010-01-08</th>\n",
       "      <td>22.113031</td>\n",
       "      <td>17.878054</td>\n",
       "      <td>11.217288</td>\n",
       "      <td>1.779358</td>\n",
       "      <td>49.288784</td>\n",
       "      <td>50.299561</td>\n",
       "      <td>8.058414</td>\n",
       "      <td>13.299196</td>\n",
       "    </tr>\n",
       "    <tr>\n",
       "      <th>...</th>\n",
       "      <td>...</td>\n",
       "      <td>...</td>\n",
       "      <td>...</td>\n",
       "      <td>...</td>\n",
       "      <td>...</td>\n",
       "      <td>...</td>\n",
       "      <td>...</td>\n",
       "      <td>...</td>\n",
       "    </tr>\n",
       "    <tr>\n",
       "      <th>2022-03-02</th>\n",
       "      <td>48.320000</td>\n",
       "      <td>34.850002</td>\n",
       "      <td>48.759998</td>\n",
       "      <td>3.940000</td>\n",
       "      <td>226.929993</td>\n",
       "      <td>122.377815</td>\n",
       "      <td>21.200001</td>\n",
       "      <td>22.580000</td>\n",
       "    </tr>\n",
       "    <tr>\n",
       "      <th>2022-03-03</th>\n",
       "      <td>50.060001</td>\n",
       "      <td>34.110001</td>\n",
       "      <td>49.000000</td>\n",
       "      <td>3.910000</td>\n",
       "      <td>221.860001</td>\n",
       "      <td>126.934959</td>\n",
       "      <td>21.330000</td>\n",
       "      <td>22.469999</td>\n",
       "    </tr>\n",
       "    <tr>\n",
       "      <th>2022-03-04</th>\n",
       "      <td>49.939999</td>\n",
       "      <td>34.810001</td>\n",
       "      <td>48.750000</td>\n",
       "      <td>3.920000</td>\n",
       "      <td>222.500000</td>\n",
       "      <td>125.654190</td>\n",
       "      <td>20.990000</td>\n",
       "      <td>22.209999</td>\n",
       "    </tr>\n",
       "    <tr>\n",
       "      <th>2022-03-07</th>\n",
       "      <td>50.380001</td>\n",
       "      <td>34.580002</td>\n",
       "      <td>48.080002</td>\n",
       "      <td>3.820000</td>\n",
       "      <td>214.460007</td>\n",
       "      <td>125.078346</td>\n",
       "      <td>20.250000</td>\n",
       "      <td>21.770000</td>\n",
       "    </tr>\n",
       "    <tr>\n",
       "      <th>2022-03-08</th>\n",
       "      <td>48.529999</td>\n",
       "      <td>35.740002</td>\n",
       "      <td>48.400002</td>\n",
       "      <td>3.800000</td>\n",
       "      <td>215.220001</td>\n",
       "      <td>119.647491</td>\n",
       "      <td>20.570000</td>\n",
       "      <td>21.670000</td>\n",
       "    </tr>\n",
       "  </tbody>\n",
       "</table>\n",
       "<p>3080 rows × 8 columns</p>\n",
       "</div>"
      ],
      "text/plain": [
       "               BHP.AX     WOW.AX     WES.AX    TLS.AX      COH.AX      RIO.AX  \\\n",
       "Date                                                                            \n",
       "2010-01-04  21.839273  17.903509  11.145973  1.816208   51.211060   47.695763   \n",
       "2010-01-05  21.940670  17.795315  11.292165  1.810944   49.800896   48.606136   \n",
       "2010-01-06  22.214417  17.763494  11.124583  1.779358   49.934498   50.025799   \n",
       "2010-01-07  22.189066  17.725306  10.946303  1.747771   49.355579   50.293179   \n",
       "2010-01-08  22.113031  17.878054  11.217288  1.779358   49.288784   50.299561   \n",
       "...               ...        ...        ...       ...         ...         ...   \n",
       "2022-03-02  48.320000  34.850002  48.759998  3.940000  226.929993  122.377815   \n",
       "2022-03-03  50.060001  34.110001  49.000000  3.910000  221.860001  126.934959   \n",
       "2022-03-04  49.939999  34.810001  48.750000  3.920000  222.500000  125.654190   \n",
       "2022-03-07  50.380001  34.580002  48.080002  3.820000  214.460007  125.078346   \n",
       "2022-03-08  48.529999  35.740002  48.400002  3.800000  215.220001  119.647491   \n",
       "\n",
       "               CPU.AX     WBC.AX  \n",
       "Date                              \n",
       "2010-01-04   8.072418  13.378514  \n",
       "2010-01-05   7.988406  13.489560  \n",
       "2010-01-06   7.946398  13.426105  \n",
       "2010-01-07   7.911393  13.246317  \n",
       "2010-01-08   8.058414  13.299196  \n",
       "...               ...        ...  \n",
       "2022-03-02  21.200001  22.580000  \n",
       "2022-03-03  21.330000  22.469999  \n",
       "2022-03-04  20.990000  22.209999  \n",
       "2022-03-07  20.250000  21.770000  \n",
       "2022-03-08  20.570000  21.670000  \n",
       "\n",
       "[3080 rows x 8 columns]"
      ]
     },
     "execution_count": 10,
     "metadata": {},
     "output_type": "execute_result"
    }
   ],
   "source": [
    "data_mygrp"
   ]
  },
  {
   "cell_type": "code",
   "execution_count": 11,
   "metadata": {},
   "outputs": [],
   "source": [
    "data_mygrp.to_csv(\"my_group_data.csv\")\n",
    "#you can save your group dataset for analysis"
   ]
  },
  {
   "cell_type": "code",
   "execution_count": null,
   "metadata": {},
   "outputs": [],
   "source": []
  }
 ],
 "metadata": {
  "kernelspec": {
   "display_name": "Python 3",
   "language": "python",
   "name": "python3"
  },
  "language_info": {
   "codemirror_mode": {
    "name": "ipython",
    "version": 3
   },
   "file_extension": ".py",
   "mimetype": "text/x-python",
   "name": "python",
   "nbconvert_exporter": "python",
   "pygments_lexer": "ipython3",
   "version": "3.7.4"
  }
 },
 "nbformat": 4,
 "nbformat_minor": 5
}
